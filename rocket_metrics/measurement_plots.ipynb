{
 "cells": [
  {
   "cell_type": "code",
   "execution_count": 2,
   "id": "ed230693-4aac-4e8a-89f6-ed61f6b882a4",
   "metadata": {},
   "outputs": [],
   "source": [
    "import pandas as pd\n",
    "import glob"
   ]
  },
  {
   "cell_type": "code",
   "execution_count": 15,
   "id": "080f5d47-4b9e-4bba-b1db-248a6fe476e2",
   "metadata": {},
   "outputs": [
    {
     "name": "stdout",
     "output_type": "stream",
     "text": [
      "../data/sensor_measurements/20221015_233913_482651.txt\n",
      "Index(['time_curr', ' accel_x', ' accel_y', ' accel_z', ' gyro_x', ' gyro_y',\n",
      "       ' gyro_z', ' temp_c', ' pres_pa', ' alt_m'],\n",
      "      dtype='object')\n"
     ]
    }
   ],
   "source": [
    "for measurement in glob.glob(\"../data/sensor_measurements/*.txt\"):\n",
    "    print(measurement)\n",
    "    measurement_df = pd.read_csv(measurement, sep=\";\")\n",
    "    #measurement_df[['pres_pa','alt_m']] = measurement_df['pres_pa'].str.split(', ',expand=True)\n",
    "    print(measurement_df.columns)\n",
    "    break"
   ]
  },
  {
   "cell_type": "code",
   "execution_count": null,
   "id": "83eda567-5dad-4cbd-b9c2-d2df0e3c071d",
   "metadata": {},
   "outputs": [],
   "source": []
  }
 ],
 "metadata": {
  "kernelspec": {
   "display_name": "eden_gis",
   "language": "python",
   "name": "eden_gis"
  },
  "language_info": {
   "codemirror_mode": {
    "name": "ipython",
    "version": 3
   },
   "file_extension": ".py",
   "mimetype": "text/x-python",
   "name": "python",
   "nbconvert_exporter": "python",
   "pygments_lexer": "ipython3",
   "version": "3.10.4"
  }
 },
 "nbformat": 4,
 "nbformat_minor": 5
}
